{
 "cells": [
  {
   "cell_type": "markdown",
   "metadata": {},
   "source": [
    "# Python Basic Commands That You Should know."
   ]
  },
  {
   "cell_type": "raw",
   "metadata": {},
   "source": [
    "Shift + Enter --> Excute Code\n",
    "Shift + Tab --> Help Code\n",
    "↑ To change the cell position \n",
    "Heading --> To give A Heading \n",
    "Raw NB Conver --> Code which is not going to excute\n",
    "markdown --> Added as an comment"
   ]
  },
  {
   "cell_type": "markdown",
   "metadata": {},
   "source": [
    "# Variable Sustitution"
   ]
  },
  {
   "cell_type": "raw",
   "metadata": {},
   "source": [
    "%d to sustitute value for integer (int)\n",
    "%f to sustitute value for Float (float)\n",
    "%s to sustitute value for String  (str)"
   ]
  },
  {
   "cell_type": "code",
   "execution_count": 9,
   "metadata": {},
   "outputs": [
    {
     "name": "stdout",
     "output_type": "stream",
     "text": [
      " Value of Variable A : 10 \n",
      " Value of Variable B : 20.454800 \n",
      " Value of Variable C : Rahul Lohar \n",
      " \n"
     ]
    }
   ],
   "source": [
    "#Example 1: Assigning values to the Variables\n",
    "A = 10\n",
    "B = 20.4548\n",
    "C = \"Rahul Lohar\"\n",
    "print(\" Value of Variable A : %d \\n Value of Variable B : %f \\n Value of Variable C : %s \\n \"%(A,B,C))"
   ]
  },
  {
   "cell_type": "code",
   "execution_count": 12,
   "metadata": {},
   "outputs": [
    {
     "name": "stdout",
     "output_type": "stream",
     "text": [
      "20.455\n"
     ]
    }
   ],
   "source": [
    "#Example 2: Float Value modification\n",
    "# you can specify after the decimal value how much digits should display.\n",
    "# %.3f Deines only 3 digits should get display like this you can modify it.\n",
    "B = 20.4548\n",
    "print(\"%.3f\"%B)\n"
   ]
  },
  {
   "cell_type": "code",
   "execution_count": 11,
   "metadata": {},
   "outputs": [
    {
     "name": "stdout",
     "output_type": "stream",
     "text": [
      "Enter the Integer value you want : \n",
      "20\n",
      "Enter the Float value you want : \n",
      "39.799922\n",
      "Enter the String value you want : \n",
      "Rahul lohar\n",
      "\n",
      " Value of Variable A : 20 \n",
      " Value of Variable B : 39.799922 \n",
      " Value of Variable C : Rahul lohar \n",
      " \n"
     ]
    }
   ],
   "source": [
    "#Example 3: Taking user inputs to assign values to user\n",
    "\n",
    "A = int(input(\"Enter the Integer value you want : \\n\"))\n",
    "B = float(input(\"Enter the Float value you want : \\n\"))\n",
    "C = input(\"Enter the String value you want : \\n\")\n",
    "print(\"\\n Value of Variable A : %d \\n Value of Variable B : %f \\n Value of Variable C : %s \\n \"%(A,B,C))"
   ]
  },
  {
   "cell_type": "code",
   "execution_count": 13,
   "metadata": {},
   "outputs": [
    {
     "name": "stdout",
     "output_type": "stream",
     "text": [
      "Enter the Integer value you want : \n",
      "20\n",
      "Enter the Float value you want : \n",
      "30.70\n",
      "The addition of the int and float number is : 50.700\n"
     ]
    }
   ],
   "source": [
    "# # Problem statment: Write a program which will add two numbers and print the sum\n",
    "A = int(input(\"Enter the Integer value you want : \\n\"))\n",
    "B = float(input(\"Enter the Float value you want : \\n\"))\n",
    "print(\"The addition of the int and float number is : %.3f\"%(A+B))"
   ]
  },
  {
   "cell_type": "markdown",
   "metadata": {},
   "source": [
    "# Conditional Statements....."
   ]
  },
  {
   "cell_type": "markdown",
   "metadata": {},
   "source": [
    "# If Elseif Else........."
   ]
  },
  {
   "cell_type": "code",
   "execution_count": 15,
   "metadata": {},
   "outputs": [
    {
     "name": "stdout",
     "output_type": "stream",
     "text": [
      "Enter the value you want : \n",
      "3\n",
      "The 3 is Odd number\n"
     ]
    }
   ],
   "source": [
    "# # # Problem statment: Write a program which will identify the Even or ODD number\n",
    "No = int(input(\"Enter the value you want : \\n\"))\n",
    "if(No%2 == 0):\n",
    "    print(\"The %d is Even number\"%No)\n",
    "else:\n",
    "    print(\"The %d is Odd number\"%No)    "
   ]
  },
  {
   "cell_type": "code",
   "execution_count": 17,
   "metadata": {},
   "outputs": [
    {
     "name": "stdout",
     "output_type": "stream",
     "text": [
      "Enter your salary400000\n",
      "The total tax for 400000.000000 salary is 20000.000000\n"
     ]
    }
   ],
   "source": [
    "#WAP TO CALCULATE TAX\n",
    "\n",
    "#0-2L --> tax 0%\n",
    "#2-5L --> tax 10%\n",
    "#5-10L --> tax 20%\n",
    "#10L+ --> 30%\n",
    "\n",
    "sal = input(\"Enter your salary\")\n",
    "sal = int(sal)\n",
    "i = sal\n",
    "if(i>0 and i<=200000):\n",
    "    tax-=0\n",
    "elif(i>200000 and i<=500000):\n",
    "    tax=0.1*(i-200000)\n",
    "elif(i>500000 and i<=1000000):\n",
    "    tax=(0.1*300000) + 0.2*(i-500000)\n",
    "else:\n",
    "    tax=(0.1*300000)+(0.02*500000)+0.3*(i-1000000)\n",
    "print(\"The total tax for %f salary is %f\"%(i,tax))"
   ]
  },
  {
   "cell_type": "code",
   "execution_count": 2,
   "metadata": {},
   "outputs": [
    {
     "name": "stdout",
     "output_type": "stream",
     "text": [
      " Maharashtra : MH \n",
      " Gujrat : GJ \n",
      " MadhyaPradesh : MP \n",
      " Punjab : PJ \n",
      " \n",
      "Please Enter your state from above : MH\n",
      "Our fav dish is Misal pav and VADAPAV\n"
     ]
    }
   ],
   "source": [
    "# WAP TO FIND FAV DISH STATE WISE\n",
    "print(\" Maharashtra : MH \\n Gujrat : GJ \\n MadhyaPradesh : MP \\n Punjab : PJ \\n \")\n",
    "\n",
    "State=input(\"Please Enter your state from above : \")\n",
    "if (State == \"MH\"):\n",
    "    print(\"Our fav dish is Misal pav and VADAPAV\")\n",
    "elif (State == \"GJ\"):\n",
    "    print(\"Our fav dish is Dhokla \")\n",
    "elif (State == \"MP\"):\n",
    "    print(\"Our fav dish is JILEBI \")\n",
    "elif (State == \"PJ\"):\n",
    "    print(\"Our fav dish is PAATHA\")\n",
    "else:\n",
    "    print(\"I Think you r not from this planet\")"
   ]
  },
  {
   "cell_type": "markdown",
   "metadata": {},
   "source": [
    "# DATA TYPES IN PYTHON"
   ]
  },
  {
   "cell_type": "markdown",
   "metadata": {},
   "source": [
    "# 1.1 List"
   ]
  },
  {
   "cell_type": "raw",
   "metadata": {},
   "source": [
    "Python List\n",
    "\n",
    "Lists are just like the arrays, declared in other languages. Lists need not be homogeneous always which makes it a most powerful tool in Python. A single list may contain DataTypes like Integers, Strings, as well as Objects. Lists are mutable, and hence, they can be altered even after their creation.\n",
    "\n",
    "Method\t    Description\n",
    "--------------------------------------------------------\n",
    "append() --->  Adds an element at the end of the list\n",
    "clear()\t --->  Removes all the elements from the list\n",
    "copy()\t --->  Returns a copy of the list\n",
    "count()\t --->  Returns the number of elements with the specified value\n",
    "extend() --->  Add the elements of a list (or any iterable), to the end of the current list\n",
    "index()\t --->  Returns the index of the first element with the specified value\n",
    "insert() --->  Adds an element at the specified position\n",
    "pop()\t --->  Removes the element at the specified position\n",
    "remove() --->  Removes the item with the specified value\n",
    "reverse() ---> Reverses the order of the list\n",
    "sort()\t--->   Sorts the list\n",
    "del List -->   to delete the list"
   ]
  },
  {
   "cell_type": "code",
   "execution_count": 5,
   "metadata": {},
   "outputs": [],
   "source": [
    "#Example\n",
    "#Create a List\n",
    "\n",
    "My_List = [123,\"Rahul Lohar\",\"sec 26 plot 141 nigdi pradhikaran\",\"O+\"]\n"
   ]
  },
  {
   "cell_type": "code",
   "execution_count": 6,
   "metadata": {},
   "outputs": [
    {
     "data": {
      "text/plain": [
       "[123, 'Rahul Lohar', 'sec 26 plot 141 nigdi pradhikaran', 'O+']"
      ]
     },
     "execution_count": 6,
     "metadata": {},
     "output_type": "execute_result"
    }
   ],
   "source": [
    "My_List"
   ]
  },
  {
   "cell_type": "code",
   "execution_count": 7,
   "metadata": {},
   "outputs": [
    {
     "data": {
      "text/plain": [
       "123"
      ]
     },
     "execution_count": 7,
     "metadata": {},
     "output_type": "execute_result"
    }
   ],
   "source": [
    "# Accessing elemnts within the list \n",
    "#index()\t --->  Returns the index of the first element with the specified value\n",
    "My_List[0]"
   ]
  },
  {
   "cell_type": "code",
   "execution_count": 8,
   "metadata": {},
   "outputs": [
    {
     "data": {
      "text/plain": [
       "'O+'"
      ]
     },
     "execution_count": 8,
     "metadata": {},
     "output_type": "execute_result"
    }
   ],
   "source": [
    "#index()\t --->  Returns the index of the first element with the specified value\n",
    "My_List[3]"
   ]
  },
  {
   "cell_type": "code",
   "execution_count": 9,
   "metadata": {},
   "outputs": [
    {
     "data": {
      "text/plain": [
       "4"
      ]
     },
     "execution_count": 9,
     "metadata": {},
     "output_type": "execute_result"
    }
   ],
   "source": [
    "# find out the lenghth of the List\n",
    "\n",
    "len(My_List)"
   ]
  },
  {
   "cell_type": "code",
   "execution_count": 15,
   "metadata": {},
   "outputs": [],
   "source": [
    "# append() --->  Adds an element at the end of the list\n",
    "# appended rahul for 3 times.\n",
    "\n",
    "My_List.append(\"Rahul\")"
   ]
  },
  {
   "cell_type": "code",
   "execution_count": 16,
   "metadata": {},
   "outputs": [
    {
     "data": {
      "text/plain": [
       "[123,\n",
       " 'Rahul Lohar',\n",
       " 'sec 26 plot 141 nigdi pradhikaran',\n",
       " 'O+',\n",
       " 9765680262,\n",
       " 'Rahul',\n",
       " 'Rahul',\n",
       " 'Rahul']"
      ]
     },
     "execution_count": 16,
     "metadata": {},
     "output_type": "execute_result"
    }
   ],
   "source": [
    "My_List"
   ]
  },
  {
   "cell_type": "code",
   "execution_count": 17,
   "metadata": {},
   "outputs": [
    {
     "data": {
      "text/plain": [
       "3"
      ]
     },
     "execution_count": 17,
     "metadata": {},
     "output_type": "execute_result"
    }
   ],
   "source": [
    "#count()\t --->  Returns the number of elements with the specified value\n",
    "\n",
    "My_List.count(\"Rahul\")"
   ]
  },
  {
   "cell_type": "code",
   "execution_count": 26,
   "metadata": {},
   "outputs": [
    {
     "name": "stdout",
     "output_type": "stream",
     "text": [
      "Using + operator joined the two list.\n",
      "\n",
      "['a', 'b', 'c', 1, 2, 3]\n",
      "\n",
      " Using Extend() function joined the two list.\n",
      "\n",
      "['a', 'b', 'c', 1, 2, 3]\n"
     ]
    }
   ],
   "source": [
    "#Join Two Lists\n",
    "#By using unary operator such as +\n",
    "#or By Using Extend() function\n",
    "\n",
    "list1 = [\"a\", \"b\" , \"c\"]\n",
    "list2 = [1, 2, 3]\n",
    "\n",
    "list3 = list1 + list2\n",
    "print(\"Using + operator joined the two list.\\n\")\n",
    "print(list3)\n",
    "\n",
    "# now we will join this two list using extend function\n",
    "\n",
    "list1.extend(list2)\n",
    "print(\"\\n Using Extend() function joined the two list.\\n\")\n",
    "print(list1)"
   ]
  },
  {
   "cell_type": "code",
   "execution_count": 37,
   "metadata": {},
   "outputs": [
    {
     "name": "stdout",
     "output_type": "stream",
     "text": [
      "Before inserting the fruit the list is : \n",
      "\n",
      " ['apple', 'banana', 'cherry']\n",
      "\n",
      " After inserting the fruit at postion 3 in the list is : \n",
      "\n",
      " ['apple', 'banana', 'cherry', 'Jackfruit']\n"
     ]
    }
   ],
   "source": [
    "# insert() --->  Adds an element at the specified position\n",
    "# Syntax is :- insert(postion,element)\n",
    "\n",
    "Fruits = [\"apple\", \"banana\", \"cherry\"]\n",
    "print(\"Before inserting the fruit the list is : \\n\\n\",Fruits)\n",
    "\n",
    "Fruits.insert(3,\"Jackfruit\")\n",
    "print(\"\\n After inserting the fruit at postion 3 in the list is : \\n\\n\",Fruits)"
   ]
  },
  {
   "cell_type": "code",
   "execution_count": 42,
   "metadata": {},
   "outputs": [
    {
     "name": "stdout",
     "output_type": "stream",
     "text": [
      "Before reversing the No list is : \n",
      "\n",
      " [99, 98, 97, 67, 2, 12]\n",
      "\n",
      "After reversing the No list is : \n",
      "\n",
      " [12, 2, 67, 97, 98, 99]\n"
     ]
    }
   ],
   "source": [
    "# reverse() ---> Reverses the order of the list\n",
    "\n",
    "No = [99,98,97,67,2,12]\n",
    "print(\"Before reversing the No list is : \\n\\n\",No)\n",
    "No.reverse()\n",
    "print(\"\\nAfter reversing the No list is : \\n\\n\",No)"
   ]
  },
  {
   "cell_type": "code",
   "execution_count": 74,
   "metadata": {},
   "outputs": [
    {
     "name": "stdout",
     "output_type": "stream",
     "text": [
      "Before Sorting the No list is : \n",
      "\n",
      " [99, 98, 97, 67, 2, 12]\n",
      "\n",
      "After Sorting the No list is : \n",
      "\n",
      " [2, 12, 67, 97, 98, 99]\n"
     ]
    }
   ],
   "source": [
    "# sort()\t--->   Sorts the list\n",
    "No = [99,98,97,67,2,12]\n",
    "print(\"Before Sorting the No list is : \\n\\n\",No)\n",
    "No.sort()\n",
    "print(\"\\nAfter Sorting the No list is : \\n\\n\",No)"
   ]
  },
  {
   "cell_type": "code",
   "execution_count": 85,
   "metadata": {},
   "outputs": [
    {
     "name": "stdout",
     "output_type": "stream",
     "text": [
      "Before poping the fruit from list is : \n",
      "\n",
      " ['apple', 'banana', 'cherry', 'orange', 'kiwi', 'melon', 'mango']\n",
      "\n",
      " The elemnt which has been poped out at 0th given position is :  apple\n",
      "\n",
      " Poping last elemt if index is not mention :  mango\n",
      "\n",
      " After poping the fruit from list is : \n",
      "\n",
      " ['banana', 'cherry', 'orange', 'kiwi', 'melon']\n"
     ]
    }
   ],
   "source": [
    "# pop()\t --->  Removes the element at the specified position\n",
    "# if we dont give any position then pop will automatically remove the last element.\n",
    "\n",
    "Fruits = [\"apple\", \"banana\", \"cherry\", \"orange\", \"kiwi\", \"melon\", \"mango\"]\n",
    "print(\"Before poping the fruit from list is : \\n\\n\",Fruits)\n",
    "popelement = Fruits.pop(0)\n",
    "popelement1 = Fruits.pop()\n",
    "print(\"\\n The elemnt which has been poped out at 0th given position is : \",popelement)\n",
    "print(\"\\n Poping last elemt if index is not mention : \",popelement1)\n",
    "print(\"\\n After poping the fruit from list is : \\n\\n\",Fruits)\n"
   ]
  },
  {
   "cell_type": "code",
   "execution_count": 105,
   "metadata": {},
   "outputs": [
    {
     "name": "stdout",
     "output_type": "stream",
     "text": [
      "Before poping the fruit from list is : \n",
      "\n",
      " ['apple', 'banana', 'cherry', 'orange', 'kiwi', 'melon', 'mango']\n",
      "\n",
      " After poping the fruit from list is : \n",
      "\n",
      " ['banana', 'cherry', 'orange', 'kiwi', 'melon', 'mango']\n"
     ]
    }
   ],
   "source": [
    "# remove() --->  Removes the item with the specified value\n",
    "\n",
    "Fruits = [\"apple\", \"banana\", \"cherry\", \"orange\", \"kiwi\", \"melon\", \"mango\"]\n",
    "print(\"Before poping the fruit from list is : \\n\\n\",Fruits)\n",
    "Fruits.remove(\"apple\")\n",
    "print(\"\\n After poping the fruit from list is : \\n\\n\",Fruits)"
   ]
  },
  {
   "cell_type": "code",
   "execution_count": 113,
   "metadata": {},
   "outputs": [
    {
     "name": "stdout",
     "output_type": "stream",
     "text": [
      "\n",
      " Before clearing the list is : \n",
      "\n",
      " [1, 2, 'Geeks', 4, 'For', 6, 'Geeks']\n",
      "\n",
      " After clearing the list is :  []\n"
     ]
    }
   ],
   "source": [
    "# clear()\t --->  Removes all the elements from the list\n",
    "List = [1, 2, 'Geeks', 4, 'For', 6, 'Geeks']\n",
    "print(\"\\n Before clearing the list is : \\n\\n\",List)\n",
    "List.clear()\n",
    "print(\"\\n After clearing the list is : \",List)"
   ]
  },
  {
   "cell_type": "code",
   "execution_count": 150,
   "metadata": {},
   "outputs": [
    {
     "name": "stdout",
     "output_type": "stream",
     "text": [
      "\n",
      " Before deleting the list is : \n",
      "\n",
      " [1, 2, 'Geeks', 4, 'For', 6, 'Geeks']\n",
      "\n",
      " The list is deleted : \n",
      "\n",
      " If you try to print the list you will get the comented error message. \n"
     ]
    }
   ],
   "source": [
    "# del List -->   to delete the list\n",
    "\n",
    "List = [1, 2, 'Geeks', 4, 'For', 6, 'Geeks']\n",
    "print(\"\\n Before deleting the list is : \\n\\n\",List)\n",
    "del List\n",
    "print(\"\\n The list is deleted : \\n\\n If you try to print the list you will get the comented error message. \")\n",
    "\n",
    "# ERROR MESSAGE:- \n",
    "# ---------------------------------------------------------------------------\n",
    "# NameError                                 Traceback (most recent call last)\n",
    "# <ipython-input-122-f7d977c26113> in <module>\n",
    "#       3 del List\n",
    "#       4 print(\"\\n The list is deleted : \\n\\n If you try to print the list you will get the below error message. \")\n",
    "# ----> 5 print(List)\n",
    "\n",
    "# NameError: name 'List' is not defined*/"
   ]
  },
  {
   "cell_type": "code",
   "execution_count": 149,
   "metadata": {},
   "outputs": [
    {
     "name": "stdout",
     "output_type": "stream",
     "text": [
      "\n",
      " Before Copying the list_1 is : \n",
      "\n",
      " [1, 2, 'Geeks', 4, 'For', 6, 'Geeks']\n",
      "\n",
      " Before Copying the list_2 is :  []\n",
      "\n",
      " After Copying the list_1 to List_2 is : \n",
      "\n",
      " [1, 2, 'Geeks', 4, 'For', 6, 'Geeks']\n"
     ]
    }
   ],
   "source": [
    "# copy()\t --->  Returns a copy of the list\n",
    "\n",
    "List_1 = [1, 2, 'Geeks', 4, 'For', 6, 'Geeks']\n",
    "List_2 = []\n",
    "print(\"\\n Before Copying the list_1 is : \\n\\n\",List_1)\n",
    "print(\"\\n Before Copying the list_2 is : \",List_2)\n",
    "List_2 = List_1.copy()\n",
    "print(\"\\n After Copying the list_1 to List_2 is : \\n\\n\",List_2)"
   ]
  },
  {
   "cell_type": "markdown",
   "metadata": {},
   "source": [
    "# 1.1.1 Multi-Dimensional List:  "
   ]
  },
  {
   "cell_type": "raw",
   "metadata": {},
   "source": [
    "Multi-dimensional lists in Python\n",
    "There can be more than one additional dimension to lists in Python. \n",
    "Keeping in mind that a list can hold other lists, that basic principle can be applied over and over. \n",
    "Multi-dimensional lists are the lists within lists. Usually, a dictionary will be the better choice rather than a multi-dimensional list in Python.\n",
    "\n",
    "For Multi-Dimensional rest function are the same."
   ]
  },
  {
   "cell_type": "code",
   "execution_count": 151,
   "metadata": {},
   "outputs": [
    {
     "name": "stdout",
     "output_type": "stream",
     "text": [
      "[[2, 4, 6, 8, 10], [3, 6, 9, 12, 15], [4, 8, 12, 16, 20]]\n"
     ]
    }
   ],
   "source": [
    "# Python program to demonstrate printing \n",
    "# of complete multidimensional list \n",
    "a = [[2, 4, 6, 8, 10], [3, 6, 9, 12, 15], [4, 8, 12, 16, 20]] \n",
    "print(a) "
   ]
  },
  {
   "cell_type": "code",
   "execution_count": 166,
   "metadata": {},
   "outputs": [
    {
     "name": "stdout",
     "output_type": "stream",
     "text": [
      "List : 0 :  [2, 4, 6, 8, 10]\n",
      "List : 1 :  [3, 6, 9, 12, 15]\n",
      "List : 2 :  [4, 8, 12, 16, 20]\n"
     ]
    }
   ],
   "source": [
    "# Assessing elemnts with in Multi-Dimensional List\n",
    "a = [[2, 4, 6, 8, 10], [3, 6, 9, 12, 15], [4, 8, 12, 16, 20]] \n",
    "for i in range(len(a)):\n",
    "    print(\"List : %d : \"%i,a[i])"
   ]
  },
  {
   "cell_type": "markdown",
   "metadata": {},
   "source": [
    "# 1.2 Tuples in Python"
   ]
  },
  {
   "cell_type": "raw",
   "metadata": {},
   "source": [
    "Tuples in Python\n",
    "A Tuple is a collection of Python objects separated by commas. A tuple in Python is similar to a list. \n",
    "The difference between the two is that we cannot change the elements of a tuple once it is assigned whereas, in a list, elements can be changed.\n",
    "In someways a tuple is similar to a list in terms of indexing, nested objects and repetition but a tuple is immutable unlike lists which are mutable."
   ]
  },
  {
   "cell_type": "raw",
   "metadata": {},
   "source": [
    "Python has two built-in methods that you can use on tuples.\n",
    "\n",
    "Method\t--> Description\n",
    "count()\t--> Returns the number of times a specified value occurs in a tuple\n",
    "index()\t--> Searches the tuple for a specified value and returns the position of where it was found"
   ]
  },
  {
   "cell_type": "code",
   "execution_count": 174,
   "metadata": {},
   "outputs": [
    {
     "name": "stdout",
     "output_type": "stream",
     "text": [
      "('apple', 'banana', 'cherry', 'apple', 'apple', 'apple')\n"
     ]
    }
   ],
   "source": [
    "#Create a Tuple:\n",
    "\n",
    "My_tuple = (\"apple\", \"banana\", \"cherry\",\"apple\",\"apple\",\"apple\")\n",
    "print(My_tuple)"
   ]
  },
  {
   "cell_type": "code",
   "execution_count": 176,
   "metadata": {},
   "outputs": [
    {
     "data": {
      "text/plain": [
       "0"
      ]
     },
     "execution_count": 176,
     "metadata": {},
     "output_type": "execute_result"
    }
   ],
   "source": [
    "My_tuple.index(\"apple\")"
   ]
  },
  {
   "cell_type": "code",
   "execution_count": 177,
   "metadata": {},
   "outputs": [
    {
     "data": {
      "text/plain": [
       "4"
      ]
     },
     "execution_count": 177,
     "metadata": {},
     "output_type": "execute_result"
    }
   ],
   "source": [
    "My_tuple.count(\"apple\")"
   ]
  },
  {
   "cell_type": "markdown",
   "metadata": {},
   "source": [
    "# 1.3 Dictionary in Python"
   ]
  },
  {
   "cell_type": "raw",
   "metadata": {},
   "source": [
    "What is dictionary in Python?\n",
    "Python dictionary is an unordered collection of items. While other compound data types have only value as an element, a dictionary has a key: value pair.\n",
    "\n",
    "Dictionaries are optimized to retrieve values when the key is known.\n",
    "\n",
    "In Python dictionaries are written with curly brackets, and they have keys and values."
   ]
  },
  {
   "cell_type": "raw",
   "metadata": {},
   "source": [
    "Dictionary Methods\n",
    "Python has a set of built-in methods that you can use on dictionaries.\n",
    "\n",
    "Method\t--> Description\n",
    "clear()\t--> Removes all the elements from the dictionary\n",
    "copy()\t--> Returns a copy of the dictionary\n",
    "fromkeys()\t--> Returns a dictionary with the specified keys and value\n",
    "get()\t--> Returns the value of the specified key\n",
    "items()\t--> Returns a list containing a tuple for each key value pair\n",
    "keys()\t--> Returns a list containing the dictionary's keys\n",
    "pop()\t--> Removes the element with the specified key\n",
    "popitem()\t--> Removes the last inserted key-value pair\n",
    "setdefault() --> Returns the value of the specified key. If the key does not exist: insert the key, with the specified value\n",
    "update()\t--> Updates the dictionary with the specified key-value pairs\n",
    "values()    --> Returns a list of all the values in the dictionary"
   ]
  },
  {
   "cell_type": "code",
   "execution_count": 184,
   "metadata": {},
   "outputs": [
    {
     "name": "stdout",
     "output_type": "stream",
     "text": [
      "{'Name': 'Rahul', 'Surname': 'Lohar', 'Address': 'Nigdi pradhikaran', 'ZipCode': 411044, 'DOB': '20/05/1997'}\n"
     ]
    }
   ],
   "source": [
    "# Declaration of Dictionary\n",
    "# Syntax:-\n",
    "# My_Dictionary = {Key:value,Key:value,Key:value}\n",
    "My_Dictionary = {\"Name\":\"Rahul\",\"Surname\":\"Lohar\",\"Address\":\"Nigdi pradhikaran\",\"ZipCode\":411044,\"DOB\":\"20/05/1997\"}\n",
    "print(My_Dictionary)"
   ]
  },
  {
   "cell_type": "code",
   "execution_count": 189,
   "metadata": {},
   "outputs": [
    {
     "data": {
      "text/plain": [
       "'Rahul'"
      ]
     },
     "execution_count": 189,
     "metadata": {},
     "output_type": "execute_result"
    }
   ],
   "source": [
    "# Accessing the elements with in the Dictionary\n",
    "\n",
    "# Accessing the elements with in the Dictionary using \"Key\"\n",
    "My_Dictionary[\"Name\"]"
   ]
  },
  {
   "cell_type": "code",
   "execution_count": 190,
   "metadata": {},
   "outputs": [
    {
     "data": {
      "text/plain": [
       "'Lohar'"
      ]
     },
     "execution_count": 190,
     "metadata": {},
     "output_type": "execute_result"
    }
   ],
   "source": [
    "# get()\t--> Returns the value of the specified key\n",
    "My_Dictionary.get(\"Surname\")"
   ]
  },
  {
   "cell_type": "code",
   "execution_count": 191,
   "metadata": {},
   "outputs": [
    {
     "data": {
      "text/plain": [
       "dict_values(['Rahul', 'Lohar', 'Nigdi pradhikaran', 411044, '20/05/1997'])"
      ]
     },
     "execution_count": 191,
     "metadata": {},
     "output_type": "execute_result"
    }
   ],
   "source": [
    "# values()    --> Returns a list of all the values in the dictionary\n",
    "My_Dictionary.values()"
   ]
  },
  {
   "cell_type": "code",
   "execution_count": 193,
   "metadata": {},
   "outputs": [
    {
     "data": {
      "text/plain": [
       "dict_keys(['Name', 'Surname', 'Address', 'ZipCode', 'DOB'])"
      ]
     },
     "execution_count": 193,
     "metadata": {},
     "output_type": "execute_result"
    }
   ],
   "source": [
    "# keys()\t--> Returns a list containing the dictionary's keys\n",
    "My_Dictionary.keys()"
   ]
  },
  {
   "cell_type": "code",
   "execution_count": 260,
   "metadata": {},
   "outputs": [
    {
     "name": "stdout",
     "output_type": "stream",
     "text": [
      "New Dictionary is created using list as a key\n",
      "New Dictionary : {1: None, 2: None, 3: None, 4: None, 5: None}\n",
      "\n",
      "New Dictionary is created using list as a key and values is pass to all is 10\n",
      "New Dictionary : {1: 10, 2: 10, 3: 10, 4: 10, 5: 10}\n",
      "\n",
      "New Dictionary is created using for loop\n",
      "New Dictionary : {1: 1, 2: 2, 3: 3, 4: 4, 5: 5}\n"
     ]
    }
   ],
   "source": [
    "# fromkeys()\t--> Python dictionary method fromkeys() creates a new dictionary with keys from iterable and values set to value.\n",
    "# Syntax:- \n",
    "# dict.fromkeys(Iterable,value)\n",
    "# Parameters\n",
    "# Iterable − This can be a List,range or tupple which can be play a role as Keys of the dictionary.\n",
    "# value − This is optional, if provided then value would be set to this value\n",
    "# This method returns the dictionary.\n",
    "\n",
    "rahul = [1,2,3,4,5]\n",
    "My_Dictionary_Using_list = dict.fromkeys(rahul)\n",
    "print(\"New Dictionary is created using list as a key\")\n",
    "print(\"New Dictionary : %s\"%str(My_Dictionary_Using_list))\n",
    "My_Dictionary_Using_list = dict.fromkeys(rahul,10)\n",
    "print(\"\\nNew Dictionary is created using list as a key and values is pass to all is 10\")\n",
    "print(\"New Dictionary : %s\"%str(My_Dictionary_Using_list))\n",
    "\n",
    "# I have assihgn the values to the My_Dictionary_Using_list using for loop\n",
    "for i in range(1,6):\n",
    "    My_Dictionary_Using_list[i]=i\n",
    "print(\"\\nNew Dictionary is created using for loop\")\n",
    "print(\"New Dictionary : %s\"%str(My_Dictionary_Using_list))"
   ]
  },
  {
   "cell_type": "code",
   "execution_count": 308,
   "metadata": {},
   "outputs": [
    {
     "data": {
      "text/plain": [
       "'20/05/1997'"
      ]
     },
     "execution_count": 308,
     "metadata": {},
     "output_type": "execute_result"
    }
   ],
   "source": [
    "# setdefault() --> Returns the value of the specified key. If the key does not exist: insert the key, with the specified value\n",
    "\n",
    "My_Dictionary2 = My_Dictionary.setdefault(\"DOB\")\n",
    "My_Dictionary2"
   ]
  },
  {
   "cell_type": "code",
   "execution_count": 265,
   "metadata": {},
   "outputs": [
    {
     "data": {
      "text/plain": [
       "dict_items([('Name', 'Rahul'), ('Surname', 'Lohar'), ('Address', 'Nigdi pradhikaran'), ('ZipCode', 411044), ('DOB', '20/05/1997'), ('Boold Gruop', None)])"
      ]
     },
     "execution_count": 265,
     "metadata": {},
     "output_type": "execute_result"
    }
   ],
   "source": [
    "#  items()\t--> Returns a list containing a tuple for each key value pair\n",
    "\n",
    "# The items() method returns a view object. The view object contains the key-value pairs of the dictionary, as tuples in a list.\n",
    "# The view object will reflect any changes done to the dictionary, see example below\n",
    "\n",
    "My_Dictionary.items()"
   ]
  },
  {
   "cell_type": "code",
   "execution_count": 294,
   "metadata": {},
   "outputs": [
    {
     "name": "stdout",
     "output_type": "stream",
     "text": [
      "Before update the blood group \n",
      " {'Name': 'Rahul', 'Surname': 'Lohar', 'Address': 'Nigdi pradhikaran', 'ZipCode': 411044, 'DOB': '20/05/1997', 'Boold Gruop': 'O+'}\n",
      "\n",
      " After update the blood group {'Name': 'Rahul', 'Surname': 'Lohar', 'Address': 'Nigdi pradhikaran', 'ZipCode': 411044, 'DOB': '20/05/1997', 'Boold Gruop': 'B+'}\n"
     ]
    }
   ],
   "source": [
    "# update()\t--> Updates the dictionary with the specified key-value pairs\n",
    "My_Dictionary ={'Name': 'Rahul',\n",
    " 'Surname': 'Lohar',\n",
    " 'Address': 'Nigdi pradhikaran',\n",
    " 'ZipCode': 411044,\n",
    " 'DOB': '20/05/1997',\n",
    " 'Boold Gruop': 'O+'}\n",
    "\n",
    "print(\"Before update the blood group \\n\",My_Dictionary)\n",
    "\n",
    "My_Dictionary.update({\"Boold Gruop\":\"B+\"})\n",
    "\n",
    "print(\"\\n After update the blood group\",My_Dictionary)\n"
   ]
  },
  {
   "cell_type": "code",
   "execution_count": 302,
   "metadata": {},
   "outputs": [
    {
     "name": "stdout",
     "output_type": "stream",
     "text": [
      "Empty dictionary :  {}\n",
      "Copied dictionary : \n",
      " {'Name': 'Rahul', 'Surname': 'Lohar', 'Address': 'Nigdi pradhikaran', 'ZipCode': 411044, 'DOB': '20/05/1997', 'Boold Gruop': 'B+'}\n"
     ]
    }
   ],
   "source": [
    "# copy()\t--> Returns a copy of the dictionary\n",
    "\n",
    "MyDCtionary_1 ={}\n",
    "print(\"Empty dictionary : \",MyDCtionary_1)\n",
    "MyDCtionary_1 = My_Dictionary.copy()\n",
    "print(\"Copied dictionary : \\n\",MyDCtionary_1)"
   ]
  },
  {
   "cell_type": "code",
   "execution_count": 303,
   "metadata": {},
   "outputs": [
    {
     "name": "stdout",
     "output_type": "stream",
     "text": [
      "Before Pop dictionary :  {'Name': 'Rahul', 'Surname': 'Lohar', 'Address': 'Nigdi pradhikaran', 'ZipCode': 411044, 'DOB': '20/05/1997', 'Boold Gruop': 'B+'}\n",
      "\n",
      "After Pop dictionary : \n",
      " {'Name': 'Rahul', 'Surname': 'Lohar', 'Address': 'Nigdi pradhikaran', 'ZipCode': 411044, 'Boold Gruop': 'B+'}\n"
     ]
    }
   ],
   "source": [
    "# pop()\t--> Removes the element with the specified key\n",
    "\n",
    "print(\"Before Pop dictionary : \",MyDCtionary_1)\n",
    "MyDCtionary_1.pop(\"DOB\")\n",
    "print(\"\\nAfter Pop dictionary : \\n\",MyDCtionary_1)\n"
   ]
  },
  {
   "cell_type": "code",
   "execution_count": 304,
   "metadata": {},
   "outputs": [
    {
     "name": "stdout",
     "output_type": "stream",
     "text": [
      "Before Pop dictionary :  {'Name': 'Rahul', 'Surname': 'Lohar', 'Address': 'Nigdi pradhikaran', 'ZipCode': 411044, 'Boold Gruop': 'B+'}\n",
      "\n",
      "After Pop dictionary : \n",
      " {'Name': 'Rahul', 'Surname': 'Lohar', 'Address': 'Nigdi pradhikaran', 'ZipCode': 411044}\n"
     ]
    }
   ],
   "source": [
    "# popitem()\t--> Removes the last inserted key-value pair\n",
    "print(\"Before Pop dictionary : \",MyDCtionary_1)\n",
    "MyDCtionary_1.popitem()\n",
    "print(\"\\nAfter Pop dictionary : \\n\",MyDCtionary_1)"
   ]
  },
  {
   "cell_type": "code",
   "execution_count": 305,
   "metadata": {},
   "outputs": [
    {
     "name": "stdout",
     "output_type": "stream",
     "text": [
      "Before Clear dictionary :  {'Name': 'Rahul', 'Surname': 'Lohar', 'Address': 'Nigdi pradhikaran', 'ZipCode': 411044}\n",
      "\n",
      "After Clear dictionary : \n",
      " {}\n"
     ]
    }
   ],
   "source": [
    "# clear()\t--> Removes all the elements from the dictionary\n",
    "\n",
    "print(\"Before Clear dictionary : \",MyDCtionary_1)\n",
    "MyDCtionary_1.clear()\n",
    "print(\"\\nAfter Clear dictionary : \\n\",MyDCtionary_1)"
   ]
  }
 ],
 "metadata": {
  "kernelspec": {
   "display_name": "Python 3",
   "language": "python",
   "name": "python3"
  },
  "language_info": {
   "codemirror_mode": {
    "name": "ipython",
    "version": 3
   },
   "file_extension": ".py",
   "mimetype": "text/x-python",
   "name": "python",
   "nbconvert_exporter": "python",
   "pygments_lexer": "ipython3",
   "version": "3.7.4"
  }
 },
 "nbformat": 4,
 "nbformat_minor": 2
}
