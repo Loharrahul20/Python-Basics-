{
 "cells": [
  {
   "cell_type": "code",
   "execution_count": 121,
   "metadata": {},
   "outputs": [],
   "source": [
    "\"\"\"\n",
    "Documentation:- \n",
    "\n",
    "This is simple program that performs certain operation related to the List.\n",
    "The key terms used in this program are:-\n",
    "    1. class and objects\n",
    "    2. self keyword\n",
    "    3. inheritance\n",
    "    4. superfunction\n",
    "    5. list operations\n",
    "\n",
    "Execution of the program:- \n",
    "\n",
    "lo =ListOperations()\n",
    "opt = Userwish()\n",
    "lo.CreateList()\n",
    "opt.user_options()\n",
    "\n",
    "\"\"\"\n",
    "\n",
    "class ListOperations:\n",
    "    my_list = []\n",
    "    \n",
    "    def CreateList(self):\n",
    "        N = int(input(\"Enter how many elements you wnto add\"))\n",
    "        for i in range(0,N):\n",
    "            lst_ele =int(input(\"\\n Enter List Elements : \"))\n",
    "            self.my_list.append(lst_ele)\n",
    "    def showlist(self):\n",
    "        print(\"The list elements are :- \",self.my_list)\n",
    "    def remelelist(self):\n",
    "        self.my_list.pop()\n",
    "        print(\"The list elements is been removed :- \",self.my_list)\n",
    "    def updatelist(self):\n",
    "        lst_ele =input(\"\\n Enter List Elements you want to add: \")\n",
    "        self.my_list.append(lst_ele)\n",
    "    def insertatspecificloclist(self):\n",
    "        pos_ele =int(input(\"\\n Enter List Elements position: \"))\n",
    "        lst_ele =int(input(\"\\n Enter List Elements you want to add: \"))\n",
    "        self.my_list.insert(pos_ele,lst_ele)\n",
    "\n",
    "class Userwish(ListOperations):\n",
    "        def user_options(self):\n",
    "            operations={\n",
    "                    1:\"Dispaly Number of Elemnts In The List\",\n",
    "                    2:\"Remove Element From The List\",\n",
    "                    3:\"Add New Element To The List\",\n",
    "                    4:\"Add New Element To specificlocation in the List\"}\n",
    "            print(operations)\n",
    "            user_option = int(input(\"\\n what operation would you like to perform\"))\n",
    "            if user_option == 1:\n",
    "                super().showlist()\n",
    "            elif user_option == 2:\n",
    "                super().remelelist()\n",
    "            elif user_option == 3:\n",
    "                super().updatelist()\n",
    "            elif user_option == 4:\n",
    "                super().insertatspecificloclist()\n",
    "            else:\n",
    "                print(\"\\n Sorry you have selected wrong option: \\n please try Again !\")\n",
    "            self.finalans()\n",
    "    \n",
    "        def finalans(self): \n",
    "            A = input(\"would you like to continew Y/N\")\n",
    "            if(A == \"Y\"):\n",
    "                self.user_options()\n",
    "            else:\n",
    "                print(\"\\n Thank you !\")\n",
    "                \n",
    "\"\"\"\n",
    "Output:- \n",
    "lo.CreateList()\n",
    "\n",
    "Enter how many elements you wnto add3\n",
    "\n",
    " Enter List Elements : 1\n",
    "\n",
    " Enter List Elements : 2\n",
    "\n",
    " Enter List Elements : 3\n",
    " \n",
    "opt.user_options()\n",
    "{1: 'Dispaly Number of Elemnts In The List', 2: 'Remove Element From The List', 3: 'Add New Element To The List', 4: 'Add New Element To specificlocation in the List'}\n",
    "\n",
    " what operation would you like to perform3\n",
    "\n",
    " Enter List Elements you want to add: 2\n",
    "would you like to continew Y/NY\n",
    "{1: 'Dispaly Number of Elemnts In The List', 2: 'Remove Element From The List', 3: 'Add New Element To The List', 4: 'Add New Element To specificlocation in the List'}\n",
    "\n",
    " what operation would you like to perform1\n",
    "The list elements are :-  [1, 2, 3, '2']\n",
    "would you like to continew Y/NY\n",
    "{1: 'Dispaly Number of Elemnts In The List', 2: 'Remove Element From The List', 3: 'Add New Element To The List', 4: 'Add New Element To specificlocation in the List'}\n",
    "\n",
    " what operation would you like to perform3\n",
    "\n",
    " Enter List Elements you want to add: 12 34\n",
    "would you like to continew Y/NY\n",
    "{1: 'Dispaly Number of Elemnts In The List', 2: 'Remove Element From The List', 3: 'Add New Element To The List', 4: 'Add New Element To specificlocation in the List'}\n",
    "\n",
    " what operation would you like to perform1\n",
    "The list elements are :-  [1, 2, 3, '2', '12 34']\n",
    "would you like to continew Y/NN\n",
    "\n",
    " Thank you !\n",
    " \n",
    "\"\"\""
   ]
  },
  {
   "cell_type": "code",
   "execution_count": 122,
   "metadata": {},
   "outputs": [],
   "source": [
    "lo =ListOperations()"
   ]
  },
  {
   "cell_type": "code",
   "execution_count": 123,
   "metadata": {},
   "outputs": [],
   "source": [
    "opt = Userwish()"
   ]
  },
  {
   "cell_type": "code",
   "execution_count": 124,
   "metadata": {},
   "outputs": [
    {
     "name": "stdout",
     "output_type": "stream",
     "text": [
      "Enter how many elements you wnto add3\n",
      "\n",
      " Enter List Elements : 1\n",
      "\n",
      " Enter List Elements : 2\n",
      "\n",
      " Enter List Elements : 3\n"
     ]
    }
   ],
   "source": [
    "lo.CreateList()"
   ]
  },
  {
   "cell_type": "code",
   "execution_count": 125,
   "metadata": {},
   "outputs": [
    {
     "name": "stdout",
     "output_type": "stream",
     "text": [
      "{1: 'Dispaly Number of Elemnts In The List', 2: 'Remove Element From The List', 3: 'Add New Element To The List', 4: 'Add New Element To specificlocation in the List'}\n",
      "\n",
      " what operation would you like to perform3\n",
      "\n",
      " Enter List Elements you want to add: 2\n",
      "would you like to continew Y/NY\n",
      "{1: 'Dispaly Number of Elemnts In The List', 2: 'Remove Element From The List', 3: 'Add New Element To The List', 4: 'Add New Element To specificlocation in the List'}\n",
      "\n",
      " what operation would you like to perform1\n",
      "The list elements are :-  [1, 2, 3, '2']\n",
      "would you like to continew Y/NY\n",
      "{1: 'Dispaly Number of Elemnts In The List', 2: 'Remove Element From The List', 3: 'Add New Element To The List', 4: 'Add New Element To specificlocation in the List'}\n",
      "\n",
      " what operation would you like to perform3\n",
      "\n",
      " Enter List Elements you want to add: 12 34\n",
      "would you like to continew Y/NY\n",
      "{1: 'Dispaly Number of Elemnts In The List', 2: 'Remove Element From The List', 3: 'Add New Element To The List', 4: 'Add New Element To specificlocation in the List'}\n",
      "\n",
      " what operation would you like to perform1\n",
      "The list elements are :-  [1, 2, 3, '2', '12 34']\n",
      "would you like to continew Y/NN\n",
      "\n",
      " Thank you !\n"
     ]
    }
   ],
   "source": [
    "opt.user_options()"
   ]
  },
  {
   "cell_type": "code",
   "execution_count": 23,
   "metadata": {},
   "outputs": [
    {
     "name": "stdout",
     "output_type": "stream",
     "text": [
      "Enter how many elements you wnto add2\n",
      "\n",
      " Enter List Elements : 1\n",
      "\n",
      " Enter List Elements : 2\n"
     ]
    }
   ],
   "source": [
    "lo.CreateList()"
   ]
  },
  {
   "cell_type": "code",
   "execution_count": 25,
   "metadata": {},
   "outputs": [
    {
     "name": "stdout",
     "output_type": "stream",
     "text": [
      "The list elements are :-  ['1', '2', '3']\n"
     ]
    }
   ],
   "source": [
    "lo.showlist()"
   ]
  },
  {
   "cell_type": "code",
   "execution_count": 19,
   "metadata": {},
   "outputs": [],
   "source": [
    "lo.remelelist()"
   ]
  },
  {
   "cell_type": "code",
   "execution_count": 24,
   "metadata": {},
   "outputs": [
    {
     "name": "stdout",
     "output_type": "stream",
     "text": [
      "\n",
      " Enter List Elements you want to add: 3\n"
     ]
    }
   ],
   "source": [
    "lo.updatelist()"
   ]
  },
  {
   "cell_type": "code",
   "execution_count": null,
   "metadata": {},
   "outputs": [],
   "source": []
  }
 ],
 "metadata": {
  "kernelspec": {
   "display_name": "Python 3",
   "language": "python",
   "name": "python3"
  },
  "language_info": {
   "codemirror_mode": {
    "name": "ipython",
    "version": 3
   },
   "file_extension": ".py",
   "mimetype": "text/x-python",
   "name": "python",
   "nbconvert_exporter": "python",
   "pygments_lexer": "ipython3",
   "version": "3.7.4"
  }
 },
 "nbformat": 4,
 "nbformat_minor": 4
}
